{
  "nbformat": 4,
  "nbformat_minor": 0,
  "metadata": {
    "colab": {
      "provenance": []
    },
    "kernelspec": {
      "name": "python3",
      "display_name": "Python 3"
    },
    "language_info": {
      "name": "python"
    }
  },
  "cells": [
    {
      "cell_type": "markdown",
      "source": [
        "1.\tWhat are data structures, and why are they important?\n",
        "  -\tData structures are organizational formats used to store, manage, and organize data in a way that facilitates efficient access and modification. They are fundamental building blocks in computer science and software engineering.\n",
        "  Thay are important due to\n",
        "   Efficiency,  Scalability, Code Optimization,  Solving Complex\n",
        "  Problems, Foundation for Algorithms.\n",
        "\n",
        "2.\t Explain the difference between mutable and immutable data types with examples.\n",
        "      \n",
        "      -  Mutable Data Types:\n",
        "    -\t These are data types whose values can be changed after they are created.\n",
        "   -\tBehaviour: Modifications to a mutable object affect the original object directly.\n",
        "    -\tExamples in Python:\tList,\tDictionary,\tSet\n",
        "\n",
        "    \tImmutable Data Types:\n",
        "  -\t These are data types whose values cannot be changed after they are created.\n",
        "  -\tBehavior: Any modification creates a new object, leaving the original object unchanged.\n",
        "  -\tExamples in Python:\tString,\tTuple, Frozenset,Numbers (integers,   floats, etc.)\n",
        "\n",
        "3. What are the main differences between lists and tuples in Python?\n",
        "  -  Differences Between Lists and Tuples are:\n",
        "\n",
        "     Mutability\n",
        "\n",
        "    •\tList: A list is mutable, meaning that the elements in a list can be changed after the list is created. We can modify, add, or remove elements from a list.\n",
        "\n",
        "    •\tTuple: A tuple is immutable, meaning that once a tuple is created, its elements cannot be changed. We cannot modify, add, or remove elements in a tuple after it is created.\n",
        "\n",
        "    Syntax\n",
        "    •\tList: Lists are defined using square brackets [].\n",
        "\n",
        "    •\tTuple: Tuples are defined using parentheses ().\n",
        "\n",
        "4. Describe how dictionaries store data.\n",
        "\n",
        "  - \tDictionaries in Python are powerful data structures that store\n",
        "      data in key-value pairs. They provide an efficient way to organize and retrieve data, using keys as unique identifiers for values.\n",
        "\n",
        "5. Why might you use a set instead of a list in Python?\n",
        "\n",
        "  - \tWe might use a set instead of a list in Python when our use case\n",
        "      requires unique elements and/or operations like membership testing or set operations (e.g., unions, intersections) to be efficient.\n",
        "\n",
        "6. What is a string in Python, and how is it different from a list?\n",
        "\n",
        "    -\tA string in Python is a sequence of characters enclosed within either single quotes ('), double quotes (\"), or triple quotes (''' or \"\"\"). It is an immutable data type, meaning that once created, it cannot be modified.\n",
        "\n",
        "7. How do tuples ensure data integrity in Python?\n",
        "\n",
        "  - \tTuples ensure data integrity in Python primarily through their\n",
        "      immutability. Once a tuple is created, its elements cannot be modified, added, or removed. This behavior makes tuples a reliable choice for storing data that should remain constant throughout the program's lifecycle.\n",
        "   \n",
        "\n",
        "8. What is a hash table, and how does it relate to dictionaries in Python?\n",
        "\n",
        "  - \tA hash table is a data structure that maps keys to values using a\n",
        "      hash function. It allows for fast data retrieval, insertion, and deletion by calculating a unique hash value for each key, which determines where the value will be stored in memory.\n",
        "\n",
        "9. Can lists contain different data types in Python?\n",
        "\n",
        "  -   Yes, lists in Python can contain elements of different data\n",
        "      types. This flexibility is one of the key features of Python lists, as they are designed to be general-purpose containers for storing and manipulating collections of objects.\n",
        "\n",
        "10. Explain why strings are immutable in Python.\n",
        "\n",
        "\t  -  Strings are immutable in Python, meaning their content cannot be\n",
        "       changed once created. This design choice provides several advantages, particularly in terms of performance, security, and consistency.\n",
        "\n",
        "11. What advantages do dictionaries offer over lists for certain tasks?\n",
        "\n",
        "\t  -  Dictionaries in Python offer several advantages over lists\n",
        "       for certain tasks, especially when dealing with key-value pairs, fast lookups, and data organization.\n",
        "\n",
        "12. Describe a scenario where using a tuple would be preferable over a list.\n",
        "  \t-  Tuples are immutable sequences in Python, and they are\n",
        "       preferable over lists in certain scenarios, particularly when we need fixed, unchanging data. The data should remain immutable (e.g., RGB values, coordinates).\n",
        "\n",
        "13. How do sets handle duplicate values in Python?\n",
        "\n",
        "    - \tIn Python, sets automatically handle duplicate values by\n",
        "        removing duplicates and only storing unique values. This is one of the primary features of a set.\n",
        "\n",
        "14. How does the \"in\" keyword work differently for lists and dictionaries?\n",
        "\n",
        "    -  The in keyword in Python is used to check for the membership\n",
        "       of an element within a collection, but it behaves differently    depending on whether we're working with a list or a dictionary.\n",
        "\n",
        "15. Can you modify the elements of a tuple? Explain why or why not.\n",
        "    -  No, we cannot modify the elements of a tuple in Python. This is\n",
        "       because tuples are immutable. Once a tuple is created, its elements cannot be changed, added, or removed.\n",
        "\n",
        "16. What is a nested dictionary, and give an example of its use case?\n",
        "\n",
        "    -  A nested dictionary is a dictionary in Python where the values  of the dictionary are themselves dictionaries. This allows we to create more complex data structures, where each key-value pair can hold additional key-value pairs, enabling hierarchical or multi-level data representation.\n",
        "\n",
        "17. Describe the time complexity of accessing elements in a dictionary.\n",
        "    -  In Python, dictionaries are implemented using hash tables, which\n",
        "       allows for efficient element access. The time complexity of accessing elements in a dictionary is typically O(1) on average, meaning it takes constant time to retrieve a value associated with a given key, regardless of the size of the dictionary.\n",
        "\n",
        "18. In what situations are lists preferred over dictionaries?\n",
        "\n",
        "    -  In Python, lists and dictionaries are both commonly used data\n",
        "       structures, but they serve different purposes and are preferred in different situations depending on the nature of the data and the operations we need to perform.\n",
        "19. Why are dictionaries considered unordered, and how does that affect data retrieval?\n",
        "\n",
        "    -  Dictionaries in Python were traditionally considered unordered because the elements in a dictionary do not maintain a specific order.\n",
        "    like  Efficient Key Lookup, Iteration Order .\n",
        "20. Explain the difference between a list and a dictionary in terms of data retrieval.\n",
        "\n",
        "\t  -  The key difference between a list and a dictionary in Python lies in how data is stored and retrieved. Each data structure has its strengths and is optimized for different types of data retrieval.\n"
      ],
      "metadata": {
        "id": "e-WivjXBh0vC"
      }
    },
    {
      "cell_type": "code",
      "execution_count": 1,
      "metadata": {
        "colab": {
          "base_uri": "https://localhost:8080/"
        },
        "id": "926RPm9ghkYJ",
        "outputId": "8b3377b4-49a5-45a3-966d-1f12f815ef2d"
      },
      "outputs": [
        {
          "output_type": "stream",
          "name": "stdout",
          "text": [
            "Nikhil Jaiswal\n"
          ]
        }
      ],
      "source": [
        "# 1. Write a code to create a string with your name and print it.\n",
        "name = \"Nikhil Jaiswal\"\n",
        "print(name)"
      ]
    },
    {
      "cell_type": "code",
      "source": [
        "# 2. Write a code to find the length of the string \"Hello World\".\n",
        "a = \"Hello World\"\n",
        "len(a)\n"
      ],
      "metadata": {
        "colab": {
          "base_uri": "https://localhost:8080/"
        },
        "id": "JEhbvKZDsWgh",
        "outputId": "e9f1934a-4d2d-4148-d4fa-8f16b7599434"
      },
      "execution_count": 2,
      "outputs": [
        {
          "output_type": "execute_result",
          "data": {
            "text/plain": [
              "11"
            ]
          },
          "metadata": {},
          "execution_count": 2
        }
      ]
    },
    {
      "cell_type": "code",
      "source": [
        "# 3. Write a code to slice the first 3 characters from the string \"Python Programming\".\n",
        "course = \"python programming\"\n",
        "course[0:3]"
      ],
      "metadata": {
        "colab": {
          "base_uri": "https://localhost:8080/",
          "height": 36
        },
        "id": "YpgY6-vetgwe",
        "outputId": "903eb197-916b-421c-a8a7-55fee224c3bc"
      },
      "execution_count": 3,
      "outputs": [
        {
          "output_type": "execute_result",
          "data": {
            "text/plain": [
              "'pyt'"
            ],
            "application/vnd.google.colaboratory.intrinsic+json": {
              "type": "string"
            }
          },
          "metadata": {},
          "execution_count": 3
        }
      ]
    },
    {
      "cell_type": "code",
      "source": [
        "# 4. Write a code to convert the string \"hello\" to uppercase.\n",
        "text = \"hello\"\n",
        "text.upper()"
      ],
      "metadata": {
        "colab": {
          "base_uri": "https://localhost:8080/",
          "height": 36
        },
        "id": "O2RU6Z4YuHYm",
        "outputId": "dae69991-f0d0-4b13-d017-716af7dca0ee"
      },
      "execution_count": 4,
      "outputs": [
        {
          "output_type": "execute_result",
          "data": {
            "text/plain": [
              "'HELLO'"
            ],
            "application/vnd.google.colaboratory.intrinsic+json": {
              "type": "string"
            }
          },
          "metadata": {},
          "execution_count": 4
        }
      ]
    },
    {
      "cell_type": "code",
      "source": [
        "# 5. Write a code to replace the word \"apple\" with \"orange\" in the string \"I like apple\".\n",
        "text = \"I like apple\"\n",
        "text.replace(\"apple\", \"orange\")"
      ],
      "metadata": {
        "colab": {
          "base_uri": "https://localhost:8080/",
          "height": 36
        },
        "id": "n1CIEcmHuskf",
        "outputId": "c7b1723a-f188-436c-f1e0-069505e1b459"
      },
      "execution_count": 9,
      "outputs": [
        {
          "output_type": "execute_result",
          "data": {
            "text/plain": [
              "'I like orange'"
            ],
            "application/vnd.google.colaboratory.intrinsic+json": {
              "type": "string"
            }
          },
          "metadata": {},
          "execution_count": 9
        }
      ]
    },
    {
      "cell_type": "code",
      "source": [
        "# 6. Write a code to create a list with numbers 1 to 5 and print it.\n",
        "a = [1, 2, 3, 4, 5]\n",
        "a\n"
      ],
      "metadata": {
        "colab": {
          "base_uri": "https://localhost:8080/"
        },
        "id": "Di2JHqiPwsrm",
        "outputId": "665d31f0-6f71-4108-942d-06f3458be3a0"
      },
      "execution_count": 14,
      "outputs": [
        {
          "output_type": "execute_result",
          "data": {
            "text/plain": [
              "[1, 2, 3, 4, 5]"
            ]
          },
          "metadata": {},
          "execution_count": 14
        }
      ]
    },
    {
      "cell_type": "code",
      "source": [
        "# 7. Write a code to append the number 10 to the list [1, 2, 3, 4].\n",
        "list = [1, 2, 3, 4]\n",
        "list.append(10)\n",
        "list"
      ],
      "metadata": {
        "colab": {
          "base_uri": "https://localhost:8080/"
        },
        "id": "YC9zclaLx2bU",
        "outputId": "fbf0cf22-2199-429d-9da3-91e2709e16ff"
      },
      "execution_count": 15,
      "outputs": [
        {
          "output_type": "execute_result",
          "data": {
            "text/plain": [
              "[1, 2, 3, 4, 10]"
            ]
          },
          "metadata": {},
          "execution_count": 15
        }
      ]
    },
    {
      "cell_type": "code",
      "source": [
        "# 8. Write a code to remove the number 3 from the list [1, 2, 3, 4, 5].\n",
        "list = [1, 2, 3, 4, 5]\n",
        "list.remove(3)\n",
        "list"
      ],
      "metadata": {
        "colab": {
          "base_uri": "https://localhost:8080/"
        },
        "id": "YGi520bYyOgS",
        "outputId": "9c3f4bdc-7434-493b-de25-692ce0042b77"
      },
      "execution_count": 20,
      "outputs": [
        {
          "output_type": "execute_result",
          "data": {
            "text/plain": [
              "[1, 2, 4, 5]"
            ]
          },
          "metadata": {},
          "execution_count": 20
        }
      ]
    },
    {
      "cell_type": "code",
      "source": [
        "# 9. Write a code to access the second element in the list ['a', 'b', 'c', 'd'].\n",
        "list = ['a', 'b', 'c', 'd' ]\n",
        "list[1]"
      ],
      "metadata": {
        "colab": {
          "base_uri": "https://localhost:8080/",
          "height": 36
        },
        "id": "s3oVTEf0zDXr",
        "outputId": "c5cd64ae-40c8-4a57-812c-4c587abe8ad6"
      },
      "execution_count": 21,
      "outputs": [
        {
          "output_type": "execute_result",
          "data": {
            "text/plain": [
              "'b'"
            ],
            "application/vnd.google.colaboratory.intrinsic+json": {
              "type": "string"
            }
          },
          "metadata": {},
          "execution_count": 21
        }
      ]
    },
    {
      "cell_type": "code",
      "source": [
        "# 10. Write a code to reverse the list [10, 20, 30, 40, 50].\n",
        "list = [10, 20, 30, 40, 50]\n",
        "list.reverse()\n",
        "list"
      ],
      "metadata": {
        "colab": {
          "base_uri": "https://localhost:8080/"
        },
        "id": "nkRl5BFlzgtq",
        "outputId": "5ece53da-fa29-483a-a426-8249310dd247"
      },
      "execution_count": 22,
      "outputs": [
        {
          "output_type": "execute_result",
          "data": {
            "text/plain": [
              "[50, 40, 30, 20, 10]"
            ]
          },
          "metadata": {},
          "execution_count": 22
        }
      ]
    },
    {
      "cell_type": "code",
      "source": [
        "# 11. Write a code to create a tuple with the elements 10, 20, 30 and print it.\n",
        "tuple = (10, 20, 30)\n",
        "tuple"
      ],
      "metadata": {
        "colab": {
          "base_uri": "https://localhost:8080/"
        },
        "id": "8DgDL_PRz8_6",
        "outputId": "27521f9c-6220-4e4d-be5a-c58619c3bfd9"
      },
      "execution_count": 24,
      "outputs": [
        {
          "output_type": "execute_result",
          "data": {
            "text/plain": [
              "(10, 20, 30)"
            ]
          },
          "metadata": {},
          "execution_count": 24
        }
      ]
    },
    {
      "cell_type": "code",
      "source": [
        "# 12. Write a code to access the first element of the tuple ('apple', 'banana', 'cherry').\n",
        "tuple = ('apple', 'banana', 'cherry')\n",
        "tuple[0]"
      ],
      "metadata": {
        "colab": {
          "base_uri": "https://localhost:8080/",
          "height": 36
        },
        "id": "p8fa2erD0Qsy",
        "outputId": "ad01d1d5-3c71-40a3-9dcc-52d0f64b7214"
      },
      "execution_count": 25,
      "outputs": [
        {
          "output_type": "execute_result",
          "data": {
            "text/plain": [
              "'apple'"
            ],
            "application/vnd.google.colaboratory.intrinsic+json": {
              "type": "string"
            }
          },
          "metadata": {},
          "execution_count": 25
        }
      ]
    },
    {
      "cell_type": "code",
      "source": [
        "# 13. Write a code to count how many times the number 2 appears in the tuple (1, 2, 3, 2, 4, 2).\n",
        "tuple = (1, 2, 3, 2, 4, 2)\n",
        "tuple.count(2)"
      ],
      "metadata": {
        "colab": {
          "base_uri": "https://localhost:8080/"
        },
        "id": "UwJdTBcY0rpC",
        "outputId": "daeebf8a-110b-4cdb-bebd-4fd53429bd80"
      },
      "execution_count": 26,
      "outputs": [
        {
          "output_type": "execute_result",
          "data": {
            "text/plain": [
              "3"
            ]
          },
          "metadata": {},
          "execution_count": 26
        }
      ]
    },
    {
      "cell_type": "code",
      "source": [
        "# 14. Write a code to find the index of the element \"cat\" in the tuple ('dog', 'cat', 'rabbit').\n",
        "tuple = ('dog', 'cat', 'rabbit')\n",
        "tuple.index('cat')\n"
      ],
      "metadata": {
        "colab": {
          "base_uri": "https://localhost:8080/"
        },
        "id": "ADMF3iaI1FFY",
        "outputId": "a0a9de23-3f46-4bb0-afff-c71dd465a8f3"
      },
      "execution_count": 27,
      "outputs": [
        {
          "output_type": "execute_result",
          "data": {
            "text/plain": [
              "1"
            ]
          },
          "metadata": {},
          "execution_count": 27
        }
      ]
    },
    {
      "cell_type": "code",
      "source": [
        "# 15. Write a code to check if the element \"banana\" is in the tuple ('apple', 'orange', 'banana').\n",
        "a = ('apple', 'orange', 'banana')\n",
        "'orange' in a"
      ],
      "metadata": {
        "colab": {
          "base_uri": "https://localhost:8080/"
        },
        "id": "9lbLI9V-2ElY",
        "outputId": "2b5832e6-cc9f-495a-89e5-efd71faeb846"
      },
      "execution_count": 29,
      "outputs": [
        {
          "output_type": "execute_result",
          "data": {
            "text/plain": [
              "True"
            ]
          },
          "metadata": {},
          "execution_count": 29
        }
      ]
    },
    {
      "cell_type": "code",
      "source": [
        "# 16. Write a code to create a set with the elements 1, 2, 3, 4, 5 and print it.\n",
        "s = {1, 2, 3, 4, 5}\n",
        "print(s)"
      ],
      "metadata": {
        "colab": {
          "base_uri": "https://localhost:8080/"
        },
        "id": "uzKUDXeh34cX",
        "outputId": "7d26a2db-dff2-489a-f9b7-5a3bb2b6db0b"
      },
      "execution_count": 31,
      "outputs": [
        {
          "output_type": "stream",
          "name": "stdout",
          "text": [
            "{1, 2, 3, 4, 5}\n"
          ]
        }
      ]
    },
    {
      "cell_type": "code",
      "source": [
        "# 17. Write a code to add the element 6 to the set {1, 2, 3, 4}.\n",
        "set = {1, 2, 3, 4}\n",
        "set.add (6)\n",
        "set"
      ],
      "metadata": {
        "colab": {
          "base_uri": "https://localhost:8080/"
        },
        "id": "BPxmSeV04Nn9",
        "outputId": "2b00e52c-a172-4651-dd1b-5fe013c6bc44"
      },
      "execution_count": 37,
      "outputs": [
        {
          "output_type": "execute_result",
          "data": {
            "text/plain": [
              "{1, 2, 3, 4, 6}"
            ]
          },
          "metadata": {},
          "execution_count": 37
        }
      ]
    },
    {
      "cell_type": "code",
      "source": [
        "# 18. Write a code to create a tuple with the elements 10, 20, 30 and print it.\n",
        "s = (10, 20, 30)\n",
        "s"
      ],
      "metadata": {
        "colab": {
          "base_uri": "https://localhost:8080/"
        },
        "id": "hiTGqwKJ5b_N",
        "outputId": "999515d4-2114-421a-d11d-1797a7491d9c"
      },
      "execution_count": 38,
      "outputs": [
        {
          "output_type": "execute_result",
          "data": {
            "text/plain": [
              "(10, 20, 30)"
            ]
          },
          "metadata": {},
          "execution_count": 38
        }
      ]
    },
    {
      "cell_type": "code",
      "source": [
        "# 19. Write a code to access the first element of the tuple ('apple', 'banana', 'cherry').\n",
        "t = ('apple', 'banana', 'cherry')\n",
        "t[0]"
      ],
      "metadata": {
        "colab": {
          "base_uri": "https://localhost:8080/",
          "height": 36
        },
        "id": "QW9r81TW5qt8",
        "outputId": "2e8c9130-8569-4709-e1e4-f06260509c22"
      },
      "execution_count": 39,
      "outputs": [
        {
          "output_type": "execute_result",
          "data": {
            "text/plain": [
              "'apple'"
            ],
            "application/vnd.google.colaboratory.intrinsic+json": {
              "type": "string"
            }
          },
          "metadata": {},
          "execution_count": 39
        }
      ]
    },
    {
      "cell_type": "code",
      "source": [
        "# 20. Write a code to count how many times the number 2 appears in the tuple (1, 2, 3, 2, 4, 2).\n",
        "t = (1, 2, 3, 2, 4, 2)\n",
        "t.count(2)"
      ],
      "metadata": {
        "colab": {
          "base_uri": "https://localhost:8080/"
        },
        "id": "3RKB6Rcf5-Rk",
        "outputId": "1b31ffec-84e5-4e98-9c3f-a12dacb7cb41"
      },
      "execution_count": 40,
      "outputs": [
        {
          "output_type": "execute_result",
          "data": {
            "text/plain": [
              "3"
            ]
          },
          "metadata": {},
          "execution_count": 40
        }
      ]
    },
    {
      "cell_type": "code",
      "source": [
        "# 21. Write a code to find the index of the element \"cat\" in the tuple ('dog', 'cat', 'rabbit').\n",
        "t = ('dog', 'cat', 'rabbit')\n",
        "t.index('cat')"
      ],
      "metadata": {
        "colab": {
          "base_uri": "https://localhost:8080/"
        },
        "id": "Sbnxcidw6WE8",
        "outputId": "32b6ff72-e2e3-4480-ec48-6318e532d5e3"
      },
      "execution_count": 41,
      "outputs": [
        {
          "output_type": "execute_result",
          "data": {
            "text/plain": [
              "1"
            ]
          },
          "metadata": {},
          "execution_count": 41
        }
      ]
    },
    {
      "cell_type": "code",
      "source": [
        "# 22. Write a code to check if the element \"banana\" is in the tuple ('apple', 'orange', 'banana').\n",
        "t = ('apple', 'orange', 'banana')\n",
        "'banana' in t"
      ],
      "metadata": {
        "colab": {
          "base_uri": "https://localhost:8080/"
        },
        "id": "lEMzFdIJ6omj",
        "outputId": "c52801b3-a7a9-49ab-fea4-12fbd041700b"
      },
      "execution_count": 42,
      "outputs": [
        {
          "output_type": "execute_result",
          "data": {
            "text/plain": [
              "True"
            ]
          },
          "metadata": {},
          "execution_count": 42
        }
      ]
    },
    {
      "cell_type": "code",
      "source": [
        "# 23. Write a code to create a set with the elements 1, 2, 3, 4, 5 and print it\n",
        "set = {1, 2, 3, 4, 5}\n",
        "print(set)"
      ],
      "metadata": {
        "colab": {
          "base_uri": "https://localhost:8080/"
        },
        "id": "9GtHHv0j7Asa",
        "outputId": "da25053e-e09c-4f78-856b-30620a5ecdb1"
      },
      "execution_count": 43,
      "outputs": [
        {
          "output_type": "stream",
          "name": "stdout",
          "text": [
            "{1, 2, 3, 4, 5}\n"
          ]
        }
      ]
    },
    {
      "cell_type": "code",
      "source": [
        "# 24. Write a code to add the element 6 to the set {1, 2, 3, 4}.\n",
        "s = {1, 2, 3, 4}\n",
        "s.add(6)\n",
        "s"
      ],
      "metadata": {
        "colab": {
          "base_uri": "https://localhost:8080/"
        },
        "id": "Vh5H2PMs7UGS",
        "outputId": "1ea03bc5-5229-4d36-f14c-a4ae0546b992"
      },
      "execution_count": 44,
      "outputs": [
        {
          "output_type": "execute_result",
          "data": {
            "text/plain": [
              "{1, 2, 3, 4, 6}"
            ]
          },
          "metadata": {},
          "execution_count": 44
        }
      ]
    }
  ]
}